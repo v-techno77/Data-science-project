{
 "cells": [
  {
   "cell_type": "code",
   "execution_count": 63,
   "id": "2d9127ce-c2d7-44f1-ad1d-f8915dcbe40e",
   "metadata": {},
   "outputs": [],
   "source": [
    "import pandas as pd\n",
    "import seaborn as sns\n",
    "import matplotlib.pyplot as plt\n"
   ]
  },
  {
   "cell_type": "code",
   "execution_count": 79,
   "id": "530a98ef-377d-4a23-871a-e647c957e700",
   "metadata": {},
   "outputs": [],
   "source": [
    "data=pd.read_csv(\"salesassign.csv\")"
   ]
  },
  {
   "cell_type": "code",
   "execution_count": 67,
   "id": "7c8fd5f3-9799-4141-b162-9a8757cc0fa9",
   "metadata": {},
   "outputs": [
    {
     "data": {
      "text/html": [
       "<div>\n",
       "<style scoped>\n",
       "    .dataframe tbody tr th:only-of-type {\n",
       "        vertical-align: middle;\n",
       "    }\n",
       "\n",
       "    .dataframe tbody tr th {\n",
       "        vertical-align: top;\n",
       "    }\n",
       "\n",
       "    .dataframe thead th {\n",
       "        text-align: right;\n",
       "    }\n",
       "</style>\n",
       "<table border=\"1\" class=\"dataframe\">\n",
       "  <thead>\n",
       "    <tr style=\"text-align: right;\">\n",
       "      <th></th>\n",
       "      <th>Date</th>\n",
       "      <th>Day</th>\n",
       "      <th>SKU</th>\n",
       "      <th>City</th>\n",
       "      <th>Volume</th>\n",
       "      <th>BU</th>\n",
       "      <th>Brand</th>\n",
       "      <th>Model</th>\n",
       "      <th>Avg Price</th>\n",
       "      <th>Total Sales Value</th>\n",
       "      <th>Discount Rate (%)</th>\n",
       "      <th>Discount Amount</th>\n",
       "      <th>Net Sales Value</th>\n",
       "    </tr>\n",
       "  </thead>\n",
       "  <tbody>\n",
       "    <tr>\n",
       "      <th>0</th>\n",
       "      <td>01-04-2021</td>\n",
       "      <td>Thursday</td>\n",
       "      <td>M01</td>\n",
       "      <td>C</td>\n",
       "      <td>15</td>\n",
       "      <td>Mobiles</td>\n",
       "      <td>RealU</td>\n",
       "      <td>RU-10</td>\n",
       "      <td>12100</td>\n",
       "      <td>181500</td>\n",
       "      <td>11.654820</td>\n",
       "      <td>21153.498820</td>\n",
       "      <td>160346.501180</td>\n",
       "    </tr>\n",
       "    <tr>\n",
       "      <th>1</th>\n",
       "      <td>01-04-2021</td>\n",
       "      <td>Thursday</td>\n",
       "      <td>M02</td>\n",
       "      <td>C</td>\n",
       "      <td>10</td>\n",
       "      <td>Mobiles</td>\n",
       "      <td>RealU</td>\n",
       "      <td>RU-9 Plus</td>\n",
       "      <td>10100</td>\n",
       "      <td>101000</td>\n",
       "      <td>11.560498</td>\n",
       "      <td>11676.102961</td>\n",
       "      <td>89323.897039</td>\n",
       "    </tr>\n",
       "    <tr>\n",
       "      <th>2</th>\n",
       "      <td>01-04-2021</td>\n",
       "      <td>Thursday</td>\n",
       "      <td>M03</td>\n",
       "      <td>C</td>\n",
       "      <td>7</td>\n",
       "      <td>Mobiles</td>\n",
       "      <td>YouM</td>\n",
       "      <td>YM-99</td>\n",
       "      <td>16100</td>\n",
       "      <td>112700</td>\n",
       "      <td>9.456886</td>\n",
       "      <td>10657.910157</td>\n",
       "      <td>102042.089843</td>\n",
       "    </tr>\n",
       "    <tr>\n",
       "      <th>3</th>\n",
       "      <td>01-04-2021</td>\n",
       "      <td>Thursday</td>\n",
       "      <td>M04</td>\n",
       "      <td>C</td>\n",
       "      <td>6</td>\n",
       "      <td>Mobiles</td>\n",
       "      <td>YouM</td>\n",
       "      <td>YM-99 Plus</td>\n",
       "      <td>20100</td>\n",
       "      <td>120600</td>\n",
       "      <td>6.935385</td>\n",
       "      <td>8364.074702</td>\n",
       "      <td>112235.925298</td>\n",
       "    </tr>\n",
       "    <tr>\n",
       "      <th>4</th>\n",
       "      <td>01-04-2021</td>\n",
       "      <td>Thursday</td>\n",
       "      <td>M05</td>\n",
       "      <td>C</td>\n",
       "      <td>3</td>\n",
       "      <td>Mobiles</td>\n",
       "      <td>YouM</td>\n",
       "      <td>YM-98</td>\n",
       "      <td>8100</td>\n",
       "      <td>24300</td>\n",
       "      <td>17.995663</td>\n",
       "      <td>4372.946230</td>\n",
       "      <td>19927.053770</td>\n",
       "    </tr>\n",
       "    <tr>\n",
       "      <th>...</th>\n",
       "      <td>...</td>\n",
       "      <td>...</td>\n",
       "      <td>...</td>\n",
       "      <td>...</td>\n",
       "      <td>...</td>\n",
       "      <td>...</td>\n",
       "      <td>...</td>\n",
       "      <td>...</td>\n",
       "      <td>...</td>\n",
       "      <td>...</td>\n",
       "      <td>...</td>\n",
       "      <td>...</td>\n",
       "      <td>...</td>\n",
       "    </tr>\n",
       "    <tr>\n",
       "      <th>445</th>\n",
       "      <td>15-04-2021</td>\n",
       "      <td>Thursday</td>\n",
       "      <td>L06</td>\n",
       "      <td>C</td>\n",
       "      <td>2</td>\n",
       "      <td>Lifestyle</td>\n",
       "      <td>Jeera</td>\n",
       "      <td>M-Casuals</td>\n",
       "      <td>1300</td>\n",
       "      <td>2600</td>\n",
       "      <td>15.475687</td>\n",
       "      <td>402.367873</td>\n",
       "      <td>2197.632127</td>\n",
       "    </tr>\n",
       "    <tr>\n",
       "      <th>446</th>\n",
       "      <td>15-04-2021</td>\n",
       "      <td>Thursday</td>\n",
       "      <td>L07</td>\n",
       "      <td>C</td>\n",
       "      <td>6</td>\n",
       "      <td>Lifestyle</td>\n",
       "      <td>Viva</td>\n",
       "      <td>W-Western</td>\n",
       "      <td>2600</td>\n",
       "      <td>15600</td>\n",
       "      <td>17.057027</td>\n",
       "      <td>2660.896242</td>\n",
       "      <td>12939.103758</td>\n",
       "    </tr>\n",
       "    <tr>\n",
       "      <th>447</th>\n",
       "      <td>15-04-2021</td>\n",
       "      <td>Thursday</td>\n",
       "      <td>L08</td>\n",
       "      <td>C</td>\n",
       "      <td>2</td>\n",
       "      <td>Lifestyle</td>\n",
       "      <td>Viva</td>\n",
       "      <td>W-Lounge</td>\n",
       "      <td>1600</td>\n",
       "      <td>3200</td>\n",
       "      <td>18.965550</td>\n",
       "      <td>606.897606</td>\n",
       "      <td>2593.102394</td>\n",
       "    </tr>\n",
       "    <tr>\n",
       "      <th>448</th>\n",
       "      <td>15-04-2021</td>\n",
       "      <td>Thursday</td>\n",
       "      <td>L09</td>\n",
       "      <td>C</td>\n",
       "      <td>3</td>\n",
       "      <td>Lifestyle</td>\n",
       "      <td>Jeera</td>\n",
       "      <td>M-Formals</td>\n",
       "      <td>1900</td>\n",
       "      <td>5700</td>\n",
       "      <td>16.793014</td>\n",
       "      <td>957.201826</td>\n",
       "      <td>4742.798174</td>\n",
       "    </tr>\n",
       "    <tr>\n",
       "      <th>449</th>\n",
       "      <td>15-04-2021</td>\n",
       "      <td>Thursday</td>\n",
       "      <td>L10</td>\n",
       "      <td>C</td>\n",
       "      <td>1</td>\n",
       "      <td>Lifestyle</td>\n",
       "      <td>Jeera</td>\n",
       "      <td>M-Shoes</td>\n",
       "      <td>3100</td>\n",
       "      <td>3100</td>\n",
       "      <td>15.333300</td>\n",
       "      <td>475.332295</td>\n",
       "      <td>2624.667705</td>\n",
       "    </tr>\n",
       "  </tbody>\n",
       "</table>\n",
       "<p>450 rows × 13 columns</p>\n",
       "</div>"
      ],
      "text/plain": [
       "           Date       Day  SKU City  Volume         BU  Brand       Model  \\\n",
       "0    01-04-2021  Thursday  M01    C      15    Mobiles  RealU       RU-10   \n",
       "1    01-04-2021  Thursday  M02    C      10    Mobiles  RealU   RU-9 Plus   \n",
       "2    01-04-2021  Thursday  M03    C       7    Mobiles   YouM       YM-99   \n",
       "3    01-04-2021  Thursday  M04    C       6    Mobiles   YouM  YM-99 Plus   \n",
       "4    01-04-2021  Thursday  M05    C       3    Mobiles   YouM      YM-98    \n",
       "..          ...       ...  ...  ...     ...        ...    ...         ...   \n",
       "445  15-04-2021  Thursday  L06    C       2  Lifestyle  Jeera   M-Casuals   \n",
       "446  15-04-2021  Thursday  L07    C       6  Lifestyle   Viva   W-Western   \n",
       "447  15-04-2021  Thursday  L08    C       2  Lifestyle   Viva    W-Lounge   \n",
       "448  15-04-2021  Thursday  L09    C       3  Lifestyle  Jeera   M-Formals   \n",
       "449  15-04-2021  Thursday  L10    C       1  Lifestyle  Jeera     M-Shoes   \n",
       "\n",
       "     Avg Price  Total Sales Value  Discount Rate (%)  Discount Amount  \\\n",
       "0        12100             181500          11.654820     21153.498820   \n",
       "1        10100             101000          11.560498     11676.102961   \n",
       "2        16100             112700           9.456886     10657.910157   \n",
       "3        20100             120600           6.935385      8364.074702   \n",
       "4         8100              24300          17.995663      4372.946230   \n",
       "..         ...                ...                ...              ...   \n",
       "445       1300               2600          15.475687       402.367873   \n",
       "446       2600              15600          17.057027      2660.896242   \n",
       "447       1600               3200          18.965550       606.897606   \n",
       "448       1900               5700          16.793014       957.201826   \n",
       "449       3100               3100          15.333300       475.332295   \n",
       "\n",
       "     Net Sales Value  \n",
       "0      160346.501180  \n",
       "1       89323.897039  \n",
       "2      102042.089843  \n",
       "3      112235.925298  \n",
       "4       19927.053770  \n",
       "..               ...  \n",
       "445      2197.632127  \n",
       "446     12939.103758  \n",
       "447      2593.102394  \n",
       "448      4742.798174  \n",
       "449      2624.667705  \n",
       "\n",
       "[450 rows x 13 columns]"
      ]
     },
     "execution_count": 67,
     "metadata": {},
     "output_type": "execute_result"
    }
   ],
   "source": [
    "data"
   ]
  },
  {
   "cell_type": "code",
   "execution_count": 6,
   "id": "ad639c17-cce1-443e-9bf7-db7349f56bcf",
   "metadata": {},
   "outputs": [
    {
     "data": {
      "text/plain": [
       "array(['RealU', 'YouM', 'Sumsang', 'Orange', 'Babaji', 'Vedic', 'Gear',\n",
       "       'Jeera', 'Viva'], dtype=object)"
      ]
     },
     "execution_count": 6,
     "metadata": {},
     "output_type": "execute_result"
    }
   ],
   "source": [
    "data['Brand'].unique()\n"
   ]
  },
  {
   "cell_type": "code",
   "execution_count": 7,
   "id": "4865f922-f1b8-4dc6-b92c-047f1e7f96f4",
   "metadata": {},
   "outputs": [],
   "source": [
    "\n",
    "def histo(i):\n",
    "     plt.hist(data[i])\n",
    "    "
   ]
  },
  {
   "cell_type": "code",
   "execution_count": 8,
   "id": "0caef593-a86e-47dd-81e2-cde7874ee042",
   "metadata": {},
   "outputs": [],
   "source": [
    "#Analysis for categorical data for categoriacal column we plot histogram "
   ]
  },
  {
   "cell_type": "code",
   "execution_count": 9,
   "id": "71058277-f075-4845-8da5-7b808bd9b673",
   "metadata": {},
   "outputs": [
    {
     "data": {
      "image/png": "[encoded data removed]",
      "text/plain": [
       "<Figure size 640x480 with 1 Axes>"
      ]
     },
     "metadata": {},
     "output_type": "display_data"
    }
   ],
   "source": [
    "histo('Brand')"
   ]
  },
  {
   "cell_type": "code",
   "execution_count": 10,
   "id": "a9b6eebf-eca8-485f-82ed-00511f858bc6",
   "metadata": {},
   "outputs": [
    {
     "data": {
      "image/png": "[encoded data removed]",
      "text/plain": [
       "<Figure size 640x480 with 1 Axes>"
      ]
     },
     "metadata": {},
     "output_type": "display_data"
    }
   ],
   "source": [
    "histo('BU')"
   ]
  },
  {
   "cell_type": "code",
   "execution_count": 11,
   "id": "0d15b8bb-73db-4366-8e4c-075a6f73b549",
   "metadata": {},
   "outputs": [
    {
     "data": {
      "image/png": "[encoded data removed]",
      "text/plain": [
       "<Figure size 640x480 with 1 Axes>"
      ]
     },
     "metadata": {},
     "output_type": "display_data"
    }
   ],
   "source": [
    "histo('City')"
   ]
  },
  {
   "cell_type": "markdown",
   "id": "384f8f20-3c5c-4984-bc45-ca05f3d30d8c",
   "metadata": {},
   "source": [
    "# According to reqirment we plot histograms for categorical columns "
   ]
  },
  {
   "cell_type": "code",
   "execution_count": 13,
   "id": "43619786-5993-4158-9269-a745b84a414b",
   "metadata": {},
   "outputs": [],
   "source": [
    "#lets do it numerical columns"
   ]
  },
  {
   "cell_type": "code",
   "execution_count": 14,
   "id": "1beb0134-b0e8-4bf8-9ff7-30f93d5b2ec8",
   "metadata": {},
   "outputs": [],
   "source": [
    "#here we plot boxplot for numerical columns now we find extreme range"
   ]
  },
  {
   "cell_type": "code",
   "execution_count": 15,
   "id": "ab9a6d73-37f4-42f4-8299-d0afc518d91d",
   "metadata": {},
   "outputs": [],
   "source": [
    "def box1(box):\n",
    "    for i,j in box.items():\n",
    "        print(i,j)\n",
    "def out(i):\n",
    "    out=[]\n",
    "    for item in i['whiskers']:\n",
    "        out.append(item.get_ydata())\n",
    "    return out\n",
    "def func():\n",
    "   val=input(\"enter the column name on which you have to find whisker\")\n",
    "   box=plt.boxplot(data[val])\n",
    "   box1(box)\n",
    "   outliers=out(box)\n",
    "   print(list(outliers))"
   ]
  },
  {
   "cell_type": "code",
   "execution_count": 20,
   "id": "9adbaf1d-10c4-4563-8f16-bdfbd347f87a",
   "metadata": {},
   "outputs": [
    {
     "name": "stdin",
     "output_type": "stream",
     "text": [
      "enter the column name on which you have to find whisker Avg Price\n"
     ]
    },
    {
     "name": "stdout",
     "output_type": "stream",
     "text": [
      "whiskers [<matplotlib.lines.Line2D object at 0x00000248913CB350>, <matplotlib.lines.Line2D object at 0x00000248963A8830>]\n",
      "caps [<matplotlib.lines.Line2D object at 0x00000248963A8590>, <matplotlib.lines.Line2D object at 0x00000248963A8A10>]\n",
      "boxes [<matplotlib.lines.Line2D object at 0x00000248963A8320>]\n",
      "medians [<matplotlib.lines.Line2D object at 0x00000248963A8B30>]\n",
      "fliers [<matplotlib.lines.Line2D object at 0x00000248963A8FB0>]\n",
      "means []\n",
      "[array([465., 290.]), array([10100., 20100.])]\n"
     ]
    },
    {
     "data": {
      "image/png": "[encoded data removed]",
      "text/plain": [
       "<Figure size 640x480 with 1 Axes>"
      ]
     },
     "metadata": {},
     "output_type": "display_data"
    }
   ],
   "source": [
    "func() #this is for Avg Price column"
   ]
  },
  {
   "cell_type": "code",
   "execution_count": 24,
   "id": "b0f8693a-b273-402b-9667-7685f062b5c3",
   "metadata": {},
   "outputs": [
    {
     "name": "stdin",
     "output_type": "stream",
     "text": [
      "enter the column name on which you have to find whisker Total Sales Value\n"
     ]
    },
    {
     "name": "stdout",
     "output_type": "stream",
     "text": [
      "whiskers [<matplotlib.lines.Line2D object at 0x000002489648BBC0>, <matplotlib.lines.Line2D object at 0x000002489648BEC0>]\n",
      "caps [<matplotlib.lines.Line2D object at 0x00000248964B0200>, <matplotlib.lines.Line2D object at 0x00000248964B04A0>]\n",
      "boxes [<matplotlib.lines.Line2D object at 0x000002489648B8F0>]\n",
      "medians [<matplotlib.lines.Line2D object at 0x00000248963A5A30>]\n",
      "fliers [<matplotlib.lines.Line2D object at 0x0000024896399340>]\n",
      "means []\n",
      "[array([2700.,  400.]), array([ 53200., 120600.])]\n"
     ]
    },
    {
     "data": {
      "image/png": "[encoded data removed]",
      "text/plain": [
       "<Figure size 640x480 with 1 Axes>"
      ]
     },
     "metadata": {},
     "output_type": "display_data"
    }
   ],
   "source": [
    "func()\n",
    " #this is for Total Sales Value\tcolumn"
   ]
  },
  {
   "cell_type": "code",
   "execution_count": 26,
   "id": "74133b39-5547-4f5b-a4b1-84e2a9e0d01c",
   "metadata": {},
   "outputs": [
    {
     "name": "stdin",
     "output_type": "stream",
     "text": [
      "enter the column name on which you have to find whisker Discount Rate (%)\n"
     ]
    },
    {
     "name": "stdout",
     "output_type": "stream",
     "text": [
      "whiskers [<matplotlib.lines.Line2D object at 0x00000248964D6DE0>, <matplotlib.lines.Line2D object at 0x00000248964D70E0>]\n",
      "caps [<matplotlib.lines.Line2D object at 0x00000248964D7380>, <matplotlib.lines.Line2D object at 0x00000248964D7620>]\n",
      "boxes [<matplotlib.lines.Line2D object at 0x00000248964D6AE0>]\n",
      "medians [<matplotlib.lines.Line2D object at 0x00000248964D7770>]\n",
      "fliers [<matplotlib.lines.Line2D object at 0x00000248964D79E0>]\n",
      "means []\n",
      "[array([13.96506254,  7.74799088]), array([18.11471848, 19.99240704])]\n"
     ]
    },
    {
     "data": {
      "image/png": "[encoded data removed]",
      "text/plain": [
       "<Figure size 640x480 with 1 Axes>"
      ]
     },
     "metadata": {},
     "output_type": "display_data"
    }
   ],
   "source": [
    "func() #this is for Discount Rate (%)"
   ]
  },
  {
   "cell_type": "code",
   "execution_count": 28,
   "id": "97df3318-c3c5-46ad-b6b5-d7416e7c431e",
   "metadata": {},
   "outputs": [
    {
     "name": "stdin",
     "output_type": "stream",
     "text": [
      "enter the column name on which you have to find whisker Discount Amount\n"
     ]
    },
    {
     "name": "stdout",
     "output_type": "stream",
     "text": [
      "whiskers [<matplotlib.lines.Line2D object at 0x0000024896666390>, <matplotlib.lines.Line2D object at 0x0000024896666660>]\n",
      "caps [<matplotlib.lines.Line2D object at 0x0000024896666960>, <matplotlib.lines.Line2D object at 0x0000024896666C60>]\n",
      "boxes [<matplotlib.lines.Line2D object at 0x0000024896666060>]\n",
      "medians [<matplotlib.lines.Line2D object at 0x00000248964EC230>]\n",
      "fliers [<matplotlib.lines.Line2D object at 0x00000248964EC5C0>]\n",
      "means []\n",
      "[array([460.45930389,  69.17794229]), array([ 5316.49542669, 12568.04537502])]\n"
     ]
    },
    {
     "data": {
      "image/png": "[encoded data removed]",
      "text/plain": [
       "<Figure size 640x480 with 1 Axes>"
      ]
     },
     "metadata": {},
     "output_type": "display_data"
    }
   ],
   "source": [
    "func() #this is for Discount Amount column"
   ]
  },
  {
   "cell_type": "code",
   "execution_count": 30,
   "id": "cf56dd91-fd9c-4518-9478-85e3c6d3f464",
   "metadata": {},
   "outputs": [
    {
     "name": "stdin",
     "output_type": "stream",
     "text": [
      "enter the column name on which you have to find whisker Net Sales Value\n"
     ]
    },
    {
     "name": "stdout",
     "output_type": "stream",
     "text": [
      "whiskers [<matplotlib.lines.Line2D object at 0x00000248966676B0>, <matplotlib.lines.Line2D object at 0x00000248966679B0>]\n",
      "caps [<matplotlib.lines.Line2D object at 0x0000024896667C80>, <matplotlib.lines.Line2D object at 0x0000024896667F20>]\n",
      "boxes [<matplotlib.lines.Line2D object at 0x0000024896667470>]\n",
      "medians [<matplotlib.lines.Line2D object at 0x0000024896638080>]\n",
      "fliers [<matplotlib.lines.Line2D object at 0x0000024896638350>]\n",
      "means []\n",
      "[array([2202.20864532,  326.97480055]), array([ 47847.91285159, 115654.3961719 ])]\n"
     ]
    },
    {
     "data": {
      "image/png": "[encoded data removed]",
      "text/plain": [
       "<Figure size 640x480 with 1 Axes>"
      ]
     },
     "metadata": {},
     "output_type": "display_data"
    }
   ],
   "source": [
    "func() #this is for Net Sales Value column"
   ]
  },
  {
   "cell_type": "code",
   "execution_count": null,
   "id": "e26616e9-02fd-4d1e-bf46-40aaf15e9096",
   "metadata": {},
   "outputs": [],
   "source": [
    "# this is how we get the extreme points od boxplot using different functions"
   ]
  },
  {
   "cell_type": "code",
   "execution_count": null,
   "id": "ab3675a0-5dcb-4b38-a59b-e6295b476ff9",
   "metadata": {},
   "outputs": [],
   "source": [
    "#now we are creating bar chart"
   ]
  },
  {
   "cell_type": "code",
   "execution_count": 36,
   "id": "bad1cd38-a460-4e93-a0fc-16cc67e7c4eb",
   "metadata": {},
   "outputs": [
    {
     "data": {
      "text/plain": [
       "<BarContainer object of 3 artists>"
      ]
     },
     "execution_count": 36,
     "metadata": {},
     "output_type": "execute_result"
    },
    {
     "data": {
      "image/png": "[encoded data removed]",
      "text/plain": [
       "<Figure size 640x480 with 1 Axes>"
      ]
     },
     "metadata": {},
     "output_type": "display_data"
    }
   ],
   "source": [
    "value_counts = data['BU'].value_counts()\n",
    "plt.bar(value_counts.index, value_counts.values, color='blue')\n",
    "\n"
   ]
  },
  {
   "cell_type": "markdown",
   "id": "f03797bd-14c0-4392-a902-2107fa96f4ad",
   "metadata": {},
   "source": [
    "according to this chart we get to know distributions of all categories is equal"
   ]
  },
  {
   "cell_type": "code",
   "execution_count": 135,
   "id": "2f62e410-e23d-4416-9dd3-87d1184144d6",
   "metadata": {},
   "outputs": [
    {
     "data": {
      "image/png": "[encoded data removed]",
      "text/plain": [
       "<Figure size 640x480 with 1 Axes>"
      ]
     },
     "metadata": {},
     "output_type": "display_data"
    },
    {
     "data": {
      "text/plain": [
       "<Figure size 2000x10000 with 0 Axes>"
      ]
     },
     "metadata": {},
     "output_type": "display_data"
    }
   ],
   "source": [
    "value_counts = data['Brand'].value_counts()\n",
    "plt.bar(value_counts.index, value_counts.values, color='blue')\n",
    "plt.figure(figsize=(20, 100))\n",
    "plt.show()"
   ]
  },
  {
   "cell_type": "markdown",
   "id": "79fe501f-80c6-493a-bdf1-64671206fc87",
   "metadata": {},
   "source": [
    "From this chart we get know  highest frequency is on jeera value second is Gear and viva then RealU,YouM,Babaji has same distributons and then samsung and orange"
   ]
  },
  {
   "cell_type": "code",
   "execution_count": 11,
   "id": "861060f4-89f8-4654-8670-78a20a70e29a",
   "metadata": {},
   "outputs": [
    {
     "data": {
      "text/plain": [
       "array(['RU-10', 'RU-9 Plus', 'YM-99', 'YM-99 Plus', 'YM-98 ', 'RU-9',\n",
       "       'S-20', 'S-21', 'O-10', 'O-11', 'Babaji Oil ', 'Vedic Cream',\n",
       "       'Vedic Shampoo', 'Babaji Shampoo', 'Babaji Cream', 'Vedic Oil',\n",
       "       'Gear Oil', 'Gear Cream', 'Gear Shampoo', 'Gear BB Cream',\n",
       "       'M- T Shirts', 'M- Inners', 'W-Casuals', 'W-Inners', 'M-Jeans',\n",
       "       'M-Casuals', 'W-Western', 'W-Lounge', 'M-Formals', 'M-Shoes'],\n",
       "      dtype=object)"
      ]
     },
     "execution_count": 11,
     "metadata": {},
     "output_type": "execute_result"
    }
   ],
   "source": [
    "data['Model'].unique()"
   ]
  },
  {
   "cell_type": "markdown",
   "id": "e3fc1ede-1912-4dd0-a807-692dc6ca4c57",
   "metadata": {},
   "source": [
    "'''RU-10', 'RU-9 Plus', 'YM-99', 'YM-99 Plus', 'YM-98 ', 'RU-9',\n",
    "       'S-20', 'S-21', 'O-10', 'O-11', 'Babaji Oil ', 'Vedic Cream',\n",
    "       'Vedic Shampoo', 'Babaji Shampoo', 'Babaji Cream', 'Vedic Oil',\n",
    "       'Gear Oil', 'Gear Cream', 'Gear Shampoo', 'Gear BB Cream',\n",
    "       'M- T Shirts', 'M- Inners', 'W-Casuals', 'W-Inners', 'M-Jeans',\n",
    "       'M-Casuals', 'W-Western', 'W-Lounge', 'M-Formals', 'M-Shoes'],\n",
    "       In Model columns this all unique values are present it not make sense to encode all  that \n",
    "       it's completly wastage of memory we skip column Model'''\n",
    "   "
   ]
  },
  {
   "cell_type": "markdown",
   "id": "aebe8a11-1a07-48c3-a534-7fd8f818847b",
   "metadata": {},
   "source": [
    "#some Explanation \n",
    "'''here are total 6 categoriacal columns but when we creating\\transforming into dummy variables we have to make sure in categorical columns has less than 5 unique values \n",
    "if it is greater than 5 it will required more memory that for that reason here we are converting the column ['BU'] in dummy column'''"
   ]
  },
  {
   "cell_type": "code",
   "execution_count": 89,
   "id": "5e21c078-af18-4921-983a-09db8cbe627d",
   "metadata": {},
   "outputs": [],
   "source": [
    "dummies=pd.get_dummies(data['BU'],dtype=int)"
   ]
  },
  {
   "cell_type": "code",
   "execution_count": 105,
   "id": "2dd064ad-b547-46e6-8f72-54b1accb8703",
   "metadata": {},
   "outputs": [],
   "source": [
    "data = pd.concat([data, pd.get_dummies(data['BU'], dtype=int)], axis=1)"
   ]
  },
  {
   "cell_type": "code",
   "execution_count": 95,
   "id": "31cd3def-0993-4c3e-9915-01b946c8e42a",
   "metadata": {},
   "outputs": [],
   "source": [
    "data['BU'] = dummies.idxmax(axis=1)\n"
   ]
  },
  {
   "cell_type": "code",
   "execution_count": 115,
   "id": "1646f5cd-5211-47fa-8c50-b2a0b8e43204",
   "metadata": {},
   "outputs": [],
   "source": [
    "data=data.drop(['BU'],axis=1)"
   ]
  },
  {
   "cell_type": "code",
   "execution_count": 117,
   "id": "41258172-b982-4f7f-82d5-6d61513dfd31",
   "metadata": {},
   "outputs": [
    {
     "data": {
      "text/html": [
       "<div>\n",
       "<style scoped>\n",
       "    .dataframe tbody tr th:only-of-type {\n",
       "        vertical-align: middle;\n",
       "    }\n",
       "\n",
       "    .dataframe tbody tr th {\n",
       "        vertical-align: top;\n",
       "    }\n",
       "\n",
       "    .dataframe thead th {\n",
       "        text-align: right;\n",
       "    }\n",
       "</style>\n",
       "<table border=\"1\" class=\"dataframe\">\n",
       "  <thead>\n",
       "    <tr style=\"text-align: right;\">\n",
       "      <th></th>\n",
       "      <th>Date</th>\n",
       "      <th>Day</th>\n",
       "      <th>SKU</th>\n",
       "      <th>City</th>\n",
       "      <th>Volume</th>\n",
       "      <th>Brand</th>\n",
       "      <th>Model</th>\n",
       "      <th>Avg Price</th>\n",
       "      <th>Total Sales Value</th>\n",
       "      <th>Discount Rate (%)</th>\n",
       "      <th>Discount Amount</th>\n",
       "      <th>Net Sales Value</th>\n",
       "      <th>FMCG</th>\n",
       "      <th>Lifestyle</th>\n",
       "      <th>Mobiles</th>\n",
       "    </tr>\n",
       "  </thead>\n",
       "  <tbody>\n",
       "    <tr>\n",
       "      <th>0</th>\n",
       "      <td>01-04-2021</td>\n",
       "      <td>Thursday</td>\n",
       "      <td>M01</td>\n",
       "      <td>C</td>\n",
       "      <td>15</td>\n",
       "      <td>RealU</td>\n",
       "      <td>RU-10</td>\n",
       "      <td>12100</td>\n",
       "      <td>181500</td>\n",
       "      <td>11.654820</td>\n",
       "      <td>21153.498820</td>\n",
       "      <td>160346.501180</td>\n",
       "      <td>0</td>\n",
       "      <td>0</td>\n",
       "      <td>1</td>\n",
       "    </tr>\n",
       "    <tr>\n",
       "      <th>1</th>\n",
       "      <td>01-04-2021</td>\n",
       "      <td>Thursday</td>\n",
       "      <td>M02</td>\n",
       "      <td>C</td>\n",
       "      <td>10</td>\n",
       "      <td>RealU</td>\n",
       "      <td>RU-9 Plus</td>\n",
       "      <td>10100</td>\n",
       "      <td>101000</td>\n",
       "      <td>11.560498</td>\n",
       "      <td>11676.102961</td>\n",
       "      <td>89323.897039</td>\n",
       "      <td>0</td>\n",
       "      <td>0</td>\n",
       "      <td>1</td>\n",
       "    </tr>\n",
       "    <tr>\n",
       "      <th>2</th>\n",
       "      <td>01-04-2021</td>\n",
       "      <td>Thursday</td>\n",
       "      <td>M03</td>\n",
       "      <td>C</td>\n",
       "      <td>7</td>\n",
       "      <td>YouM</td>\n",
       "      <td>YM-99</td>\n",
       "      <td>16100</td>\n",
       "      <td>112700</td>\n",
       "      <td>9.456886</td>\n",
       "      <td>10657.910157</td>\n",
       "      <td>102042.089843</td>\n",
       "      <td>0</td>\n",
       "      <td>0</td>\n",
       "      <td>1</td>\n",
       "    </tr>\n",
       "    <tr>\n",
       "      <th>3</th>\n",
       "      <td>01-04-2021</td>\n",
       "      <td>Thursday</td>\n",
       "      <td>M04</td>\n",
       "      <td>C</td>\n",
       "      <td>6</td>\n",
       "      <td>YouM</td>\n",
       "      <td>YM-99 Plus</td>\n",
       "      <td>20100</td>\n",
       "      <td>120600</td>\n",
       "      <td>6.935385</td>\n",
       "      <td>8364.074702</td>\n",
       "      <td>112235.925298</td>\n",
       "      <td>0</td>\n",
       "      <td>0</td>\n",
       "      <td>1</td>\n",
       "    </tr>\n",
       "    <tr>\n",
       "      <th>4</th>\n",
       "      <td>01-04-2021</td>\n",
       "      <td>Thursday</td>\n",
       "      <td>M05</td>\n",
       "      <td>C</td>\n",
       "      <td>3</td>\n",
       "      <td>YouM</td>\n",
       "      <td>YM-98</td>\n",
       "      <td>8100</td>\n",
       "      <td>24300</td>\n",
       "      <td>17.995663</td>\n",
       "      <td>4372.946230</td>\n",
       "      <td>19927.053770</td>\n",
       "      <td>0</td>\n",
       "      <td>0</td>\n",
       "      <td>1</td>\n",
       "    </tr>\n",
       "    <tr>\n",
       "      <th>...</th>\n",
       "      <td>...</td>\n",
       "      <td>...</td>\n",
       "      <td>...</td>\n",
       "      <td>...</td>\n",
       "      <td>...</td>\n",
       "      <td>...</td>\n",
       "      <td>...</td>\n",
       "      <td>...</td>\n",
       "      <td>...</td>\n",
       "      <td>...</td>\n",
       "      <td>...</td>\n",
       "      <td>...</td>\n",
       "      <td>...</td>\n",
       "      <td>...</td>\n",
       "      <td>...</td>\n",
       "    </tr>\n",
       "    <tr>\n",
       "      <th>445</th>\n",
       "      <td>15-04-2021</td>\n",
       "      <td>Thursday</td>\n",
       "      <td>L06</td>\n",
       "      <td>C</td>\n",
       "      <td>2</td>\n",
       "      <td>Jeera</td>\n",
       "      <td>M-Casuals</td>\n",
       "      <td>1300</td>\n",
       "      <td>2600</td>\n",
       "      <td>15.475687</td>\n",
       "      <td>402.367873</td>\n",
       "      <td>2197.632127</td>\n",
       "      <td>0</td>\n",
       "      <td>1</td>\n",
       "      <td>0</td>\n",
       "    </tr>\n",
       "    <tr>\n",
       "      <th>446</th>\n",
       "      <td>15-04-2021</td>\n",
       "      <td>Thursday</td>\n",
       "      <td>L07</td>\n",
       "      <td>C</td>\n",
       "      <td>6</td>\n",
       "      <td>Viva</td>\n",
       "      <td>W-Western</td>\n",
       "      <td>2600</td>\n",
       "      <td>15600</td>\n",
       "      <td>17.057027</td>\n",
       "      <td>2660.896242</td>\n",
       "      <td>12939.103758</td>\n",
       "      <td>0</td>\n",
       "      <td>1</td>\n",
       "      <td>0</td>\n",
       "    </tr>\n",
       "    <tr>\n",
       "      <th>447</th>\n",
       "      <td>15-04-2021</td>\n",
       "      <td>Thursday</td>\n",
       "      <td>L08</td>\n",
       "      <td>C</td>\n",
       "      <td>2</td>\n",
       "      <td>Viva</td>\n",
       "      <td>W-Lounge</td>\n",
       "      <td>1600</td>\n",
       "      <td>3200</td>\n",
       "      <td>18.965550</td>\n",
       "      <td>606.897606</td>\n",
       "      <td>2593.102394</td>\n",
       "      <td>0</td>\n",
       "      <td>1</td>\n",
       "      <td>0</td>\n",
       "    </tr>\n",
       "    <tr>\n",
       "      <th>448</th>\n",
       "      <td>15-04-2021</td>\n",
       "      <td>Thursday</td>\n",
       "      <td>L09</td>\n",
       "      <td>C</td>\n",
       "      <td>3</td>\n",
       "      <td>Jeera</td>\n",
       "      <td>M-Formals</td>\n",
       "      <td>1900</td>\n",
       "      <td>5700</td>\n",
       "      <td>16.793014</td>\n",
       "      <td>957.201826</td>\n",
       "      <td>4742.798174</td>\n",
       "      <td>0</td>\n",
       "      <td>1</td>\n",
       "      <td>0</td>\n",
       "    </tr>\n",
       "    <tr>\n",
       "      <th>449</th>\n",
       "      <td>15-04-2021</td>\n",
       "      <td>Thursday</td>\n",
       "      <td>L10</td>\n",
       "      <td>C</td>\n",
       "      <td>1</td>\n",
       "      <td>Jeera</td>\n",
       "      <td>M-Shoes</td>\n",
       "      <td>3100</td>\n",
       "      <td>3100</td>\n",
       "      <td>15.333300</td>\n",
       "      <td>475.332295</td>\n",
       "      <td>2624.667705</td>\n",
       "      <td>0</td>\n",
       "      <td>1</td>\n",
       "      <td>0</td>\n",
       "    </tr>\n",
       "  </tbody>\n",
       "</table>\n",
       "<p>450 rows × 15 columns</p>\n",
       "</div>"
      ],
      "text/plain": [
       "           Date       Day  SKU City  Volume  Brand       Model  Avg Price  \\\n",
       "0    01-04-2021  Thursday  M01    C      15  RealU       RU-10      12100   \n",
       "1    01-04-2021  Thursday  M02    C      10  RealU   RU-9 Plus      10100   \n",
       "2    01-04-2021  Thursday  M03    C       7   YouM       YM-99      16100   \n",
       "3    01-04-2021  Thursday  M04    C       6   YouM  YM-99 Plus      20100   \n",
       "4    01-04-2021  Thursday  M05    C       3   YouM      YM-98        8100   \n",
       "..          ...       ...  ...  ...     ...    ...         ...        ...   \n",
       "445  15-04-2021  Thursday  L06    C       2  Jeera   M-Casuals       1300   \n",
       "446  15-04-2021  Thursday  L07    C       6   Viva   W-Western       2600   \n",
       "447  15-04-2021  Thursday  L08    C       2   Viva    W-Lounge       1600   \n",
       "448  15-04-2021  Thursday  L09    C       3  Jeera   M-Formals       1900   \n",
       "449  15-04-2021  Thursday  L10    C       1  Jeera     M-Shoes       3100   \n",
       "\n",
       "     Total Sales Value  Discount Rate (%)  Discount Amount  Net Sales Value  \\\n",
       "0               181500          11.654820     21153.498820    160346.501180   \n",
       "1               101000          11.560498     11676.102961     89323.897039   \n",
       "2               112700           9.456886     10657.910157    102042.089843   \n",
       "3               120600           6.935385      8364.074702    112235.925298   \n",
       "4                24300          17.995663      4372.946230     19927.053770   \n",
       "..                 ...                ...              ...              ...   \n",
       "445               2600          15.475687       402.367873      2197.632127   \n",
       "446              15600          17.057027      2660.896242     12939.103758   \n",
       "447               3200          18.965550       606.897606      2593.102394   \n",
       "448               5700          16.793014       957.201826      4742.798174   \n",
       "449               3100          15.333300       475.332295      2624.667705   \n",
       "\n",
       "     FMCG  Lifestyle  Mobiles  \n",
       "0       0          0        1  \n",
       "1       0          0        1  \n",
       "2       0          0        1  \n",
       "3       0          0        1  \n",
       "4       0          0        1  \n",
       "..    ...        ...      ...  \n",
       "445     0          1        0  \n",
       "446     0          1        0  \n",
       "447     0          1        0  \n",
       "448     0          1        0  \n",
       "449     0          1        0  \n",
       "\n",
       "[450 rows x 15 columns]"
      ]
     },
     "execution_count": 117,
     "metadata": {},
     "output_type": "execute_result"
    }
   ],
   "source": [
    "data"
   ]
  },
  {
   "cell_type": "markdown",
   "id": "0a80fd3f-0e49-428c-9c37-8e34c4c950d2",
   "metadata": {},
   "source": [
    "Standardization of Numerical Variables\n",
    "●\tObjective: To scale numerical variables for uniformity, improving the dataset’s suitability for analytical models.\n",
    "●\tSteps:\n",
    "\tExplain the concept of standardization (z-score normalization).\n",
    "\tStandardize the numerical columns using the formula: z=x-mu/sigma\n",
    "\t\n",
    "\tShow before and after comparisons of the data distributions.\n"
   ]
  },
  {
   "cell_type": "code",
   "execution_count": 147,
   "id": "8ba79488-c1a5-4a1a-9c86-a02c3720621a",
   "metadata": {},
   "outputs": [],
   "source": [
    "def get_standard(x):\n",
    "    return (x-x.mean()/x.std())"
   ]
  },
  {
   "cell_type": "code",
   "execution_count": 165,
   "id": "5024b4ac-f80e-4ddb-8a84-8d3ec7ddfe9e",
   "metadata": {},
   "outputs": [],
   "source": [
    "#data1=pd.Series(data['Volume'].values)"
   ]
  },
  {
   "cell_type": "code",
   "execution_count": 185,
   "id": "71411ce2-d7c2-4c29-97e8-4468331a28c9",
   "metadata": {},
   "outputs": [],
   "source": [
    "data1=pd.DataFrame(data[['Volume','Avg Price','Total Sales Value','Discount Rate (%)','Discount Amount','Net Sales Value']])"
   ]
  },
  {
   "cell_type": "code",
   "execution_count": 191,
   "id": "db0208a5-be30-4ce1-88bb-440d296acad1",
   "metadata": {},
   "outputs": [],
   "source": [
    "std_data=get_standard(data1)"
   ]
  },
  {
   "cell_type": "code",
   "execution_count": 193,
   "id": "bf84f35a-6015-4eb9-a0bf-345325140f96",
   "metadata": {},
   "outputs": [
    {
     "data": {
      "text/html": [
       "<div>\n",
       "<style scoped>\n",
       "    .dataframe tbody tr th:only-of-type {\n",
       "        vertical-align: middle;\n",
       "    }\n",
       "\n",
       "    .dataframe tbody tr th {\n",
       "        vertical-align: top;\n",
       "    }\n",
       "\n",
       "    .dataframe thead th {\n",
       "        text-align: right;\n",
       "    }\n",
       "</style>\n",
       "<table border=\"1\" class=\"dataframe\">\n",
       "  <thead>\n",
       "    <tr style=\"text-align: right;\">\n",
       "      <th></th>\n",
       "      <th>Volume</th>\n",
       "      <th>Avg Price</th>\n",
       "      <th>Total Sales Value</th>\n",
       "      <th>Discount Rate (%)</th>\n",
       "      <th>Discount Amount</th>\n",
       "      <th>Net Sales Value</th>\n",
       "    </tr>\n",
       "  </thead>\n",
       "  <tbody>\n",
       "    <tr>\n",
       "      <th>0</th>\n",
       "      <td>13.80266</td>\n",
       "      <td>12099.42182</td>\n",
       "      <td>181499.330904</td>\n",
       "      <td>8.064043</td>\n",
       "      <td>21152.756786</td>\n",
       "      <td>160345.843993</td>\n",
       "    </tr>\n",
       "    <tr>\n",
       "      <th>1</th>\n",
       "      <td>8.80266</td>\n",
       "      <td>10099.42182</td>\n",
       "      <td>100999.330904</td>\n",
       "      <td>7.969721</td>\n",
       "      <td>11675.360927</td>\n",
       "      <td>89323.239851</td>\n",
       "    </tr>\n",
       "    <tr>\n",
       "      <th>2</th>\n",
       "      <td>5.80266</td>\n",
       "      <td>16099.42182</td>\n",
       "      <td>112699.330904</td>\n",
       "      <td>5.866108</td>\n",
       "      <td>10657.168123</td>\n",
       "      <td>102041.432656</td>\n",
       "    </tr>\n",
       "    <tr>\n",
       "      <th>3</th>\n",
       "      <td>4.80266</td>\n",
       "      <td>20099.42182</td>\n",
       "      <td>120599.330904</td>\n",
       "      <td>3.344608</td>\n",
       "      <td>8363.332668</td>\n",
       "      <td>112235.268110</td>\n",
       "    </tr>\n",
       "    <tr>\n",
       "      <th>4</th>\n",
       "      <td>1.80266</td>\n",
       "      <td>8099.42182</td>\n",
       "      <td>24299.330904</td>\n",
       "      <td>14.404886</td>\n",
       "      <td>4372.204197</td>\n",
       "      <td>19926.396582</td>\n",
       "    </tr>\n",
       "    <tr>\n",
       "      <th>...</th>\n",
       "      <td>...</td>\n",
       "      <td>...</td>\n",
       "      <td>...</td>\n",
       "      <td>...</td>\n",
       "      <td>...</td>\n",
       "      <td>...</td>\n",
       "    </tr>\n",
       "    <tr>\n",
       "      <th>445</th>\n",
       "      <td>0.80266</td>\n",
       "      <td>1299.42182</td>\n",
       "      <td>2599.330904</td>\n",
       "      <td>11.884910</td>\n",
       "      <td>401.625839</td>\n",
       "      <td>2196.974939</td>\n",
       "    </tr>\n",
       "    <tr>\n",
       "      <th>446</th>\n",
       "      <td>4.80266</td>\n",
       "      <td>2599.42182</td>\n",
       "      <td>15599.330904</td>\n",
       "      <td>13.466250</td>\n",
       "      <td>2660.154208</td>\n",
       "      <td>12938.446571</td>\n",
       "    </tr>\n",
       "    <tr>\n",
       "      <th>447</th>\n",
       "      <td>0.80266</td>\n",
       "      <td>1599.42182</td>\n",
       "      <td>3199.330904</td>\n",
       "      <td>15.374773</td>\n",
       "      <td>606.155572</td>\n",
       "      <td>2592.445207</td>\n",
       "    </tr>\n",
       "    <tr>\n",
       "      <th>448</th>\n",
       "      <td>1.80266</td>\n",
       "      <td>1899.42182</td>\n",
       "      <td>5699.330904</td>\n",
       "      <td>13.202237</td>\n",
       "      <td>956.459792</td>\n",
       "      <td>4742.140987</td>\n",
       "    </tr>\n",
       "    <tr>\n",
       "      <th>449</th>\n",
       "      <td>-0.19734</td>\n",
       "      <td>3099.42182</td>\n",
       "      <td>3099.330904</td>\n",
       "      <td>11.742523</td>\n",
       "      <td>474.590261</td>\n",
       "      <td>2624.010518</td>\n",
       "    </tr>\n",
       "  </tbody>\n",
       "</table>\n",
       "<p>450 rows × 6 columns</p>\n",
       "</div>"
      ],
      "text/plain": [
       "       Volume    Avg Price  Total Sales Value  Discount Rate (%)  \\\n",
       "0    13.80266  12099.42182      181499.330904           8.064043   \n",
       "1     8.80266  10099.42182      100999.330904           7.969721   \n",
       "2     5.80266  16099.42182      112699.330904           5.866108   \n",
       "3     4.80266  20099.42182      120599.330904           3.344608   \n",
       "4     1.80266   8099.42182       24299.330904          14.404886   \n",
       "..        ...          ...                ...                ...   \n",
       "445   0.80266   1299.42182        2599.330904          11.884910   \n",
       "446   4.80266   2599.42182       15599.330904          13.466250   \n",
       "447   0.80266   1599.42182        3199.330904          15.374773   \n",
       "448   1.80266   1899.42182        5699.330904          13.202237   \n",
       "449  -0.19734   3099.42182        3099.330904          11.742523   \n",
       "\n",
       "     Discount Amount  Net Sales Value  \n",
       "0       21152.756786    160345.843993  \n",
       "1       11675.360927     89323.239851  \n",
       "2       10657.168123    102041.432656  \n",
       "3        8363.332668    112235.268110  \n",
       "4        4372.204197     19926.396582  \n",
       "..               ...              ...  \n",
       "445       401.625839      2196.974939  \n",
       "446      2660.154208     12938.446571  \n",
       "447       606.155572      2592.445207  \n",
       "448       956.459792      4742.140987  \n",
       "449       474.590261      2624.010518  \n",
       "\n",
       "[450 rows x 6 columns]"
      ]
     },
     "execution_count": 193,
     "metadata": {},
     "output_type": "execute_result"
    }
   ],
   "source": [
    "std_data"
   ]
  },
  {
   "cell_type": "markdown",
   "id": "e47d49de-9f38-46c7-8015-da80b765a252",
   "metadata": {},
   "source": [
    "Data preprocessing is crucial in data analysis and machine learning as it improves model performance and accuracy. Standardization scales numerical features to ensure fair comparisons, while one-hot encoding converts categorical data into a machine-readable format. These steps help models learn effectively and prevent biases from varying data distributions."
   ]
  },
  {
   "cell_type": "code",
   "execution_count": null,
   "id": "2ef933d2-d01f-4671-ad12-88d5bfb26b88",
   "metadata": {},
   "outputs": [],
   "source": []
  }
 ],
 "metadata": {
  "kernelspec": {
   "display_name": "Python 3 (ipykernel)",
   "language": "python",
   "name": "python3"
  },
  "language_info": {
   "codemirror_mode": {
    "name": "ipython",
    "version": 3
   },
   "file_extension": ".py",
   "mimetype": "text/x-python",
   "name": "python",
   "nbconvert_exporter": "python",
   "pygments_lexer": "ipython3",
   "version": "3.12.7"
  }
 },
 "nbformat": 4,
 "nbformat_minor": 5
}
